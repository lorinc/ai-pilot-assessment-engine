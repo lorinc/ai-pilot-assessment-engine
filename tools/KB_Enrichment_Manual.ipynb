{
 "cells": [
  {
   "cell_type": "markdown",
   "metadata": {},
   "source": [
    "# KB Enrichment - Manual Extraction\n",
    "\n",
    "This notebook allows you to manually control and refine the knowledge base extraction process.\n",
    "\n",
    "## Setup\n",
    "Run this first to load your data files."
   ]
  },
  {
   "cell_type": "code",
   "execution_count": null,
   "metadata": {},
   "outputs": [],
   "source": [
    "import json\n",
    "from pathlib import Path\n",
    "from typing import List, Dict, Any\n",
    "\n",
    "# If running in Colab, mount drive or upload files\n",
    "# from google.colab import drive\n",
    "# drive.mount('/content/drive')\n",
    "\n",
    "# Helper functions\n",
    "def load_json(file_path):\n",
    "    with open(file_path, 'r') as f:\n",
    "        return json.load(f)\n",
    "\n",
    "def save_json(data, file_path):\n",
    "    with open(file_path, 'w') as f:\n",
    "        json.dump(data, f, indent=2)\n",
    "    print(f\"✓ Saved {len(data)} items to {file_path}\")\n",
    "\n",
    "# Load source data\n",
    "DATA_DIR = Path(\"src/data\")  # Adjust path as needed\n",
    "\n",
    "discovery = load_json(DATA_DIR / \"AI_discovery.json\")\n",
    "archetypes = load_json(DATA_DIR / \"AI_archetypes.json\")\n",
    "prerequisites = load_json(DATA_DIR / \"AI_prerequisites.json\")\n",
    "\n",
    "print(\"✓ Data loaded successfully\")"
   ]
  },
  {
   "cell_type": "markdown",
   "metadata": {},
   "source": [
    "## Explore Data Structure\n",
    "Understand what's in your source files."
   ]
  },
  {
   "cell_type": "code",
   "execution_count": null,
   "metadata": {},
   "outputs": [],
   "source": [
    "# Explore discovery data\n",
    "print(\"Discovery keys:\", discovery.keys())\n",
    "print(\"\\nBusiness Function structure:\")\n",
    "print(json.dumps(discovery[\"Business_Function\"], indent=2)[:500])\n",
    "\n",
    "print(\"\\n\" + \"=\"*50)\n",
    "print(\"\\nBusiness Sector structure:\")\n",
    "print(json.dumps(discovery[\"Business_Sector\"], indent=2)[:500])"
   ]
  },
  {
   "cell_type": "code",
   "execution_count": null,
   "metadata": {},
   "outputs": [],
   "source": [
    "# Explore archetypes\n",
    "print(\"Archetypes structure:\")\n",
    "print(json.dumps(archetypes, indent=2)[:800])"
   ]
  },
  {
   "cell_type": "code",
   "execution_count": null,
   "metadata": {},
   "outputs": [],
   "source": [
    "# Explore prerequisites\n",
    "print(\"Prerequisites structure:\")\n",
    "print(json.dumps(prerequisites, indent=2)[:800])"
   ]
  },
  {
   "cell_type": "markdown",
   "metadata": {},
   "source": [
    "## Phase 0: Extract Business Context Nodes\n",
    "Manually define what to extract from discovery data."
   ]
  },
  {
   "cell_type": "code",
   "execution_count": null,
   "metadata": {},
   "outputs": [],
   "source": [
    "# CUSTOMIZE THIS: Extract Business Functions\n",
    "function_nodes = []\n",
    "bf_data = discovery[\"Business_Function\"]\n",
    "categories = bf_data.get(\"categories\", [])\n",
    "\n",
    "func_id = 1\n",
    "for category in categories:\n",
    "    cat_name = category.get(\"category\", \"Unknown\")\n",
    "    functions = category.get(\"functions\", [])\n",
    "    \n",
    "    for func in functions:\n",
    "        if isinstance(func, dict):\n",
    "            function_nodes.append({\n",
    "                \"id\": f\"FUNCTION_{func_id:03d}\",\n",
    "                \"name\": func.get(\"name\", \"Unknown\"),\n",
    "                \"node_type\": \"BUSINESS_FUNCTION\",\n",
    "                \"category\": cat_name,\n",
    "                # CUSTOMIZE: What attributes do you want?\n",
    "                # \"tools\": func.get(\"tools_and_processes\", []),\n",
    "                # \"description\": func.get(\"description\", \"\")\n",
    "            })\n",
    "            func_id += 1\n",
    "\n",
    "print(f\"Extracted {len(function_nodes)} functions\")\n",
    "print(\"\\nSample:\")\n",
    "print(json.dumps(function_nodes[:2], indent=2))"
   ]
  },
  {
   "cell_type": "code",
   "execution_count": null,
   "metadata": {},
   "outputs": [],
   "source": [
    "# CUSTOMIZE THIS: Extract Business Sectors\n",
    "# Do you want categories or individual sectors?\n",
    "sector_nodes = []\n",
    "bs_data = discovery[\"Business_Sector\"]\n",
    "categories = bs_data.get(\"categories\", [])\n",
    "\n",
    "sector_id = 1\n",
    "for category in categories:\n",
    "    if isinstance(category, dict):\n",
    "        # Option 1: Just categories\n",
    "        # sector_nodes.append({\n",
    "        #     \"id\": f\"SECTOR_{sector_id:03d}\",\n",
    "        #     \"name\": category.get(\"category\", \"Unknown\"),\n",
    "        #     \"node_type\": \"BUSINESS_SECTOR\"\n",
    "        # })\n",
    "        # sector_id += 1\n",
    "        \n",
    "        # Option 2: Individual sectors\n",
    "        sectors = category.get(\"sectors\", [])\n",
    "        for sector in sectors:\n",
    "            if isinstance(sector, dict):\n",
    "                sector_nodes.append({\n",
    "                    \"id\": f\"SECTOR_{sector_id:03d}\",\n",
    "                    \"name\": sector.get(\"name\", \"Unknown\"),\n",
    "                    \"node_type\": \"BUSINESS_SECTOR\",\n",
    "                    \"category\": category.get(\"category\", \"Unknown\")\n",
    "                })\n",
    "                sector_id += 1\n",
    "\n",
    "print(f\"Extracted {len(sector_nodes)} sectors\")\n",
    "print(\"\\nSample:\")\n",
    "print(json.dumps(sector_nodes[:2], indent=2))"
   ]
  },
  {
   "cell_type": "code",
   "execution_count": null,
   "metadata": {},
   "outputs": [],
   "source": [
    "# CUSTOMIZE THIS: Extract Tools\n",
    "# Should tools be extracted at all? Or kept as attributes?\n",
    "tool_set = set()\n",
    "\n",
    "# Collect from functions\n",
    "for category in discovery[\"Business_Function\"].get(\"categories\", []):\n",
    "    for func in category.get(\"functions\", []):\n",
    "        if isinstance(func, dict):\n",
    "            tools = func.get(\"tools_and_processes\", [])\n",
    "            for tool in tools:\n",
    "                if isinstance(tool, str):\n",
    "                    tool_set.add(tool)\n",
    "\n",
    "tool_nodes = []\n",
    "for idx, tool_name in enumerate(sorted(tool_set), 1):\n",
    "    tool_nodes.append({\n",
    "        \"id\": f\"TOOL_{idx:03d}\",\n",
    "        \"name\": tool_name,\n",
    "        \"node_type\": \"BUSINESS_TOOL\"\n",
    "    })\n",
    "\n",
    "print(f\"Extracted {len(tool_nodes)} tools\")\n",
    "print(\"\\nSample:\")\n",
    "print(json.dumps(tool_nodes[:3], indent=2))"
   ]
  },
  {
   "cell_type": "markdown",
   "metadata": {},
   "source": [
    "## Phase 1: Extract AI Archetype Nodes"
   ]
  },
  {
   "cell_type": "code",
   "execution_count": null,
   "metadata": {},
   "outputs": [],
   "source": [
    "# CUSTOMIZE THIS: Extract Archetypes\n",
    "archetype_nodes = []\n",
    "model_nodes = []\n",
    "output_nodes = []\n",
    "\n",
    "archetype_list = archetypes.get(\"AI_Use_Case_Archetypes\", [])\n",
    "\n",
    "for idx, archetype in enumerate(archetype_list, 1):\n",
    "    if isinstance(archetype, dict):\n",
    "        archetype_nodes.append({\n",
    "            \"id\": f\"ARCHETYPE_{idx:03d}\",\n",
    "            \"name\": archetype.get(\"archetype\", \"Unknown\"),\n",
    "            \"node_type\": \"AI_ARCHETYPE\",\n",
    "            \"description\": archetype.get(\"core_task\", \"\"),\n",
    "            \"analytical_purpose\": archetype.get(\"analytical_purpose\", []),\n",
    "            \"technical_family\": archetype.get(\"technical_family\", \"\")\n",
    "        })\n",
    "        \n",
    "        # Extract models\n",
    "        for model in archetype.get(\"common_models\", []):\n",
    "            if model not in [m[\"name\"] for m in model_nodes]:\n",
    "                model_nodes.append({\n",
    "                    \"id\": f\"MODEL_{len(model_nodes) + 1:03d}\",\n",
    "                    \"name\": model,\n",
    "                    \"node_type\": \"COMMON_MODEL\"\n",
    "                })\n",
    "        \n",
    "        # Extract outputs\n",
    "        for output in archetype.get(\"example_outputs\", []):\n",
    "            if output not in [o[\"name\"] for o in output_nodes]:\n",
    "                output_nodes.append({\n",
    "                    \"id\": f\"OUTPUT_{len(output_nodes) + 1:03d}\",\n",
    "                    \"name\": output,\n",
    "                    \"node_type\": \"AI_OUTPUT\"\n",
    "                })\n",
    "\n",
    "print(f\"Extracted {len(archetype_nodes)} archetypes\")\n",
    "print(f\"Extracted {len(model_nodes)} models\")\n",
    "print(f\"Extracted {len(output_nodes)} outputs\")"
   ]
  },
  {
   "cell_type": "code",
   "execution_count": null,
   "metadata": {},
   "outputs": [],
   "source": [
    "# CUSTOMIZE THIS: Extract Prerequisites\n",
    "prerequisite_nodes = []\n",
    "\n",
    "for category, prereqs in prerequisites.items():\n",
    "    if isinstance(prereqs, list):\n",
    "        for prereq in prereqs:\n",
    "            if isinstance(prereq, str):\n",
    "                prerequisite_nodes.append({\n",
    "                    \"id\": f\"PREREQ_{len(prerequisite_nodes) + 1:03d}\",\n",
    "                    \"name\": prereq,\n",
    "                    \"node_type\": \"AI_PREREQUISITE\",\n",
    "                    \"category\": category\n",
    "                })\n",
    "\n",
    "print(f\"Extracted {len(prerequisite_nodes)} prerequisites\")\n",
    "print(\"\\nSample:\")\n",
    "print(json.dumps(prerequisite_nodes[:3], indent=2))"
   ]
  },
  {
   "cell_type": "markdown",
   "metadata": {},
   "source": [
    "## Save Extracted Nodes"
   ]
  },
  {
   "cell_type": "code",
   "execution_count": null,
   "metadata": {},
   "outputs": [],
   "source": [
    "# Create output directory\n",
    "OUTPUT_DIR = Path(\"manual_output\")\n",
    "OUTPUT_DIR.mkdir(exist_ok=True)\n",
    "\n",
    "# Save Phase 0 nodes\n",
    "save_json(function_nodes, OUTPUT_DIR / \"FUNCTION_NODES.json\")\n",
    "save_json(sector_nodes, OUTPUT_DIR / \"SECTOR_NODES.json\")\n",
    "save_json(tool_nodes, OUTPUT_DIR / \"TOOL_NODES.json\")\n",
    "\n",
    "# Save Phase 1 nodes\n",
    "save_json(archetype_nodes, OUTPUT_DIR / \"AI_ARCHETYPE_NODES.json\")\n",
    "save_json(model_nodes, OUTPUT_DIR / \"COMMON_MODEL_NODES.json\")\n",
    "save_json(output_nodes, OUTPUT_DIR / \"AI_OUTPUT_NODES.json\")\n",
    "save_json(prerequisite_nodes, OUTPUT_DIR / \"AI_PREREQUISITE_NODES.json\")\n",
    "\n",
    "print(\"\\n✓ All nodes saved to\", OUTPUT_DIR)"
   ]
  },
  {
   "cell_type": "markdown",
   "metadata": {},
   "source": [
    "## Review Statistics"
   ]
  },
  {
   "cell_type": "code",
   "execution_count": null,
   "metadata": {},
   "outputs": [],
   "source": [
    "print(\"=\" * 50)\n",
    "print(\"EXTRACTION SUMMARY\")\n",
    "print(\"=\" * 50)\n",
    "print(f\"\\nPhase 0 (Business Context):\")\n",
    "print(f\"  Functions: {len(function_nodes)}\")\n",
    "print(f\"  Sectors: {len(sector_nodes)}\")\n",
    "print(f\"  Tools: {len(tool_nodes)}\")\n",
    "print(f\"\\nPhase 1 (AI Components):\")\n",
    "print(f\"  Archetypes: {len(archetype_nodes)}\")\n",
    "print(f\"  Models: {len(model_nodes)}\")\n",
    "print(f\"  Outputs: {len(output_nodes)}\")\n",
    "print(f\"  Prerequisites: {len(prerequisite_nodes)}\")\n",
    "print(f\"\\nTotal Nodes: {len(function_nodes) + len(sector_nodes) + len(tool_nodes) + len(archetype_nodes) + len(model_nodes) + len(output_nodes) + len(prerequisite_nodes)}\")"
   ]
  }
 ],
 "metadata": {
  "kernelspec": {
   "display_name": "Python 3",
   "language": "python",
   "name": "python3"
  },
  "language_info": {
   "name": "python",
   "version": "3.12.0"
  }
 },
 "nbformat": 4,
 "nbformat_minor": 2
}
